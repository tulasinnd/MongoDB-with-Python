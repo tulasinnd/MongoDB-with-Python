{
 "cells": [
  {
   "cell_type": "markdown",
   "id": "f9f3106d",
   "metadata": {},
   "source": [
    "# Telephone Directory CRUD Operation "
   ]
  },
  {
   "cell_type": "markdown",
   "id": "56081af2",
   "metadata": {},
   "source": [
    "Connected to MongDB server"
   ]
  },
  {
   "cell_type": "code",
   "execution_count": 15,
   "id": "73a84b16",
   "metadata": {},
   "outputs": [],
   "source": [
    "# NOTE:\n",
    "# INSTRUCTIONS TO EXECUTE CODE\n",
    "# For proper working of all the code snippets , please execute one by one EXACTLY once\n",
    "# because every code is depends on the previous code\n",
    "# If you want to execute more than once then please change the databasename from TelephoneDatabase \n",
    "# to some other name, otherwise it will get duplication errors"
   ]
  },
  {
   "cell_type": "code",
   "execution_count": 1,
   "id": "7fc524e6",
   "metadata": {},
   "outputs": [],
   "source": [
    "import pymongo\n",
    "client = pymongo.MongoClient(\"mongodb://localhost:27017/\")   # connected to MongDB server\n",
    "db = client[\"TelephoneDatabase2\"]                              # database is created"
   ]
  },
  {
   "cell_type": "markdown",
   "id": "8f45597a",
   "metadata": {},
   "source": [
    "# 1 CREATE"
   ]
  },
  {
   "cell_type": "markdown",
   "id": "6f8b57a8",
   "metadata": {},
   "source": [
    "Collection is created with mandatory fields\n",
    "        \n",
    "        Name: String\n",
    "        Phone_no: String that accepts only 10 digit number\n",
    "        Place: String\n",
    "        Pincode: String that acceps only 5 digit number\n",
    "        Voilation of any of the above validations will raise a writeError\n"
   ]
  },
  {
   "cell_type": "code",
   "execution_count": 4,
   "id": "1a18e630",
   "metadata": {},
   "outputs": [
    {
     "name": "stdout",
     "output_type": "stream",
     "text": [
      "Collection(Database(MongoClient(host=['localhost:27017'], document_class=dict, tz_aware=False, connect=True), 'TelephoneDatabase2'), 'TelephoneDirectory1')\n"
     ]
    }
   ],
   "source": [
    "result= db.create_collection(\"TelephoneDirectory1\", \n",
    "       validator= {\n",
    "        \"$jsonSchema\": {\n",
    "         \"bsonType\": \"object\",\n",
    "         \"title\": \"Telephone Directory CRUD Operation\",\n",
    "         \"required\": [ \"name\",\"phone_no\",\"place\",\"pincode\" ],\n",
    "         \"properties\": {\n",
    "             \"place\": {\n",
    "               \"bsonType\": \"string\",\n",
    "               \"description\": \"'place' must be a string and is required\"\n",
    "            },\n",
    "            \"name\": {\n",
    "               \"bsonType\": \"string\",\n",
    "               \"description\": \"'name' must be a string and is required\"\n",
    "            },\n",
    "            \"pincode\": {\n",
    "              \"bsonType\": \"string\",\n",
    "                \"pattern\": \"\\\\A[0-9]{5}\\\\z\",\n",
    "                \"description\": \"pincode should be 5 digit\"\n",
    "                \n",
    "             },\n",
    "            \"phone_no\":{\n",
    "              \"bsonType\": \"string\",\n",
    "              \"pattern\": \"\\\\A[0-9]{10}\\\\z\",\n",
    "                \"description\": \"phone number should be 10 digit\"\n",
    "             }\n",
    "                 }\n",
    "              }\n",
    "           }\n",
    "         )    \n",
    "print(result)"
   ]
  },
  {
   "cell_type": "markdown",
   "id": "bbc49202",
   "metadata": {},
   "source": [
    "#  2 INSERT\n",
    "\n",
    "        insert_one(): Will insert one document at a time\n",
    "        insert_many(): Will insert more than one document at a time"
   ]
  },
  {
   "cell_type": "code",
   "execution_count": 5,
   "id": "a1cd10b6",
   "metadata": {},
   "outputs": [
    {
     "name": "stdout",
     "output_type": "stream",
     "text": [
      "{'_id': ObjectId('63a337bb8d8f34c9538170cf'), 'name': 'Aditya', 'phone_no': '9133221239', 'place': 'kakinada', 'pincode': '15545'}\n"
     ]
    }
   ],
   "source": [
    "dic={\n",
    "   \"name\": \"Aditya\",\n",
    "    \"phone_no\":\"9133221239\",\n",
    "    \"place\":\"kakinada\",\n",
    "    \"pincode\" :'15545'\n",
    "}   \n",
    "result.insert_one(dic)\n",
    "for each in result.find():\n",
    "    print(each)"
   ]
  },
  {
   "cell_type": "code",
   "execution_count": 6,
   "id": "1e4669f7",
   "metadata": {},
   "outputs": [
    {
     "name": "stdout",
     "output_type": "stream",
     "text": [
      "{'_id': ObjectId('63a337bb8d8f34c9538170cf'), 'name': 'Aditya', 'phone_no': '9133221239', 'place': 'kakinada', 'pincode': '15545'}\n",
      "{'_id': ObjectId('63a337cc8d8f34c9538170d0'), 'name': 'Rishi', 'phone_no': '9133221239', 'place': 'kakinada', 'pincode': '15545'}\n",
      "{'_id': ObjectId('63a337cc8d8f34c9538170d1'), 'name': 'Arun', 'phone_no': '9133771239', 'place': 'Rajahmundary', 'pincode': '12542'}\n",
      "{'_id': ObjectId('63a337cc8d8f34c9538170d2'), 'name': 'kundavai', 'phone_no': '9563221239', 'place': 'pithapuram', 'pincode': '56545'}\n",
      "{'_id': ObjectId('63a337cc8d8f34c9538170d3'), 'name': 'Nanadini', 'phone_no': '9132621239', 'place': 'Tripura', 'pincode': '10045'}\n",
      "{'_id': ObjectId('63a337cc8d8f34c9538170d4'), 'name': 'vrinda', 'phone_no': '9124621239', 'place': 'Chennai', 'pincode': '10045'}\n",
      "{'_id': ObjectId('63a337cc8d8f34c9538170d5'), 'name': 'Hari', 'phone_no': '9563221239', 'place': 'pithapuram', 'pincode': '56545'}\n",
      "{'_id': ObjectId('63a337cc8d8f34c9538170d6'), 'name': 'Nihar', 'phone_no': '5648921239', 'place': 'Chennai', 'pincode': '10745'}\n",
      "{'_id': ObjectId('63a337cc8d8f34c9538170d7'), 'name': 'Leela', 'phone_no': '9124648520', 'place': 'Chennai', 'pincode': '10745'}\n"
     ]
    }
   ],
   "source": [
    "mylist = [{\"name\": \"Rishi\",\"phone_no\":\"9133221239\",\"place\":\"kakinada\",\"pincode\" :'15545'},\n",
    "          {\"name\": \"Arun\",\"phone_no\":\"9133771239\",\"place\":\"Rajahmundary\",\"pincode\" :'12542'},\n",
    "          {\"name\": \"kundavai\",\"phone_no\":\"9563221239\",\"place\":\"pithapuram\",\"pincode\" :'56545'},\n",
    "          {\"name\": \"Nanadini\",\"phone_no\":\"9132621239\",\"place\":\"Tripura\",\"pincode\" :'10045'},\n",
    "          {\"name\": \"vrinda\",\"phone_no\":\"9124621239\",\"place\":\"Chennai\",\"pincode\" :'10045'},\n",
    "          {\"name\": \"Hari\",\"phone_no\":\"9563221239\",\"place\":\"pithapuram\",\"pincode\" :'56545'},\n",
    "          {\"name\": \"Nihar\",\"phone_no\":\"5648921239\",\"place\":\"Chennai\",\"pincode\" :'10745'},\n",
    "          {\"name\": \"Leela\",\"phone_no\":\"9124648520\",\"place\":\"Chennai\",\"pincode\" :'10745'}\n",
    "         ]\n",
    "y = result.insert_many(mylist)\n",
    "for each in result.find():\n",
    "    print(each)"
   ]
  },
  {
   "cell_type": "markdown",
   "id": "eafeddb0",
   "metadata": {},
   "source": [
    "# 3 READ"
   ]
  },
  {
   "cell_type": "code",
   "execution_count": 7,
   "id": "09bb73d4",
   "metadata": {},
   "outputs": [
    {
     "name": "stdout",
     "output_type": "stream",
     "text": [
      "{'_id': ObjectId('63a337bb8d8f34c9538170cf'), 'name': 'Aditya', 'phone_no': '9133221239', 'place': 'kakinada', 'pincode': '15545'}\n",
      "{'_id': ObjectId('63a337cc8d8f34c9538170d0'), 'name': 'Rishi', 'phone_no': '9133221239', 'place': 'kakinada', 'pincode': '15545'}\n",
      "{'_id': ObjectId('63a337cc8d8f34c9538170d1'), 'name': 'Arun', 'phone_no': '9133771239', 'place': 'Rajahmundary', 'pincode': '12542'}\n",
      "{'_id': ObjectId('63a337cc8d8f34c9538170d2'), 'name': 'kundavai', 'phone_no': '9563221239', 'place': 'pithapuram', 'pincode': '56545'}\n",
      "{'_id': ObjectId('63a337cc8d8f34c9538170d3'), 'name': 'Nanadini', 'phone_no': '9132621239', 'place': 'Tripura', 'pincode': '10045'}\n",
      "{'_id': ObjectId('63a337cc8d8f34c9538170d4'), 'name': 'vrinda', 'phone_no': '9124621239', 'place': 'Chennai', 'pincode': '10045'}\n",
      "{'_id': ObjectId('63a337cc8d8f34c9538170d5'), 'name': 'Hari', 'phone_no': '9563221239', 'place': 'pithapuram', 'pincode': '56545'}\n",
      "{'_id': ObjectId('63a337cc8d8f34c9538170d6'), 'name': 'Nihar', 'phone_no': '5648921239', 'place': 'Chennai', 'pincode': '10745'}\n",
      "{'_id': ObjectId('63a337cc8d8f34c9538170d7'), 'name': 'Leela', 'phone_no': '9124648520', 'place': 'Chennai', 'pincode': '10745'}\n"
     ]
    }
   ],
   "source": [
    "# Read every document from the collection and prints it\n",
    "for x in result.find():\n",
    "    print(x)"
   ]
  },
  {
   "cell_type": "code",
   "execution_count": 8,
   "id": "cf3f0827",
   "metadata": {},
   "outputs": [
    {
     "name": "stdout",
     "output_type": "stream",
     "text": [
      "{'_id': ObjectId('63a337bb8d8f34c9538170cf'), 'name': 'Aditya', 'phone_no': '9133221239', 'place': 'kakinada', 'pincode': '15545'}\n",
      "{'_id': ObjectId('63a337cc8d8f34c9538170d0'), 'name': 'Rishi', 'phone_no': '9133221239', 'place': 'kakinada', 'pincode': '15545'}\n"
     ]
    }
   ],
   "source": [
    "myquery = { \"place\":  { \"$regex\": \"^k\" } } \n",
    "mydoc = result.find(myquery)  # it will return all the documents in which place is starting with 'k'\n",
    "for x in mydoc:\n",
    "    print(x)"
   ]
  },
  {
   "cell_type": "code",
   "execution_count": 9,
   "id": "95ff445f",
   "metadata": {},
   "outputs": [
    {
     "name": "stdout",
     "output_type": "stream",
     "text": [
      "{'_id': ObjectId('63a337bb8d8f34c9538170cf'), 'name': 'Aditya', 'phone_no': '9133221239', 'place': 'kakinada', 'pincode': '15545'}\n"
     ]
    }
   ],
   "source": [
    "myquery={\"$and\":[{\"name\":\"Aditya\"},{\"place\":\"kakinada\"}]}\n",
    "mydoc = result.find(myquery)  # it will return all the documents in which name is Aditya& place is kakinada\n",
    "for x in mydoc:\n",
    "    print(x)"
   ]
  },
  {
   "cell_type": "markdown",
   "id": "814ea60a",
   "metadata": {},
   "source": [
    "# UPDATE\n",
    "\n",
    "        update_one(): Will update only first occurence of matched document \n",
    "        update_many(): Will update all the occurences of the matched documents"
   ]
  },
  {
   "cell_type": "code",
   "execution_count": 10,
   "id": "67f897a1",
   "metadata": {},
   "outputs": [
    {
     "name": "stdout",
     "output_type": "stream",
     "text": [
      "{'_id': ObjectId('63a337bb8d8f34c9538170cf'), 'name': 'Aditya', 'phone_no': '9133221239', 'place': 'kakinada', 'pincode': '15545'}\n",
      "{'_id': ObjectId('63a337cc8d8f34c9538170d0'), 'name': 'Rishi', 'phone_no': '9133221239', 'place': 'kakinada', 'pincode': '15545'}\n",
      "{'_id': ObjectId('63a337cc8d8f34c9538170d1'), 'name': 'Arun', 'phone_no': '9133771239', 'place': 'Rajahmundary', 'pincode': '12542'}\n",
      "{'_id': ObjectId('63a337cc8d8f34c9538170d2'), 'name': 'kundavai', 'phone_no': '9563221239', 'place': 'pithapuram', 'pincode': '56545'}\n",
      "{'_id': ObjectId('63a337cc8d8f34c9538170d3'), 'name': 'Nanadini', 'phone_no': '9132621239', 'place': 'Tripura', 'pincode': '10045'}\n",
      "{'_id': ObjectId('63a337cc8d8f34c9538170d4'), 'name': 'vrinda', 'phone_no': '9124621239', 'place': 'Tripura', 'pincode': '10045'}\n",
      "{'_id': ObjectId('63a337cc8d8f34c9538170d5'), 'name': 'Hari', 'phone_no': '9563221239', 'place': 'pithapuram', 'pincode': '56545'}\n",
      "{'_id': ObjectId('63a337cc8d8f34c9538170d6'), 'name': 'Nihar', 'phone_no': '5648921239', 'place': 'Chennai', 'pincode': '10745'}\n",
      "{'_id': ObjectId('63a337cc8d8f34c9538170d7'), 'name': 'Leela', 'phone_no': '9124648520', 'place': 'Chennai', 'pincode': '10745'}\n"
     ]
    }
   ],
   "source": [
    "query = { \"place\": \"Chennai\" }\n",
    "update = { \"$set\": { \"place\": \"Tripura\" } } # it will replace the first ocuurence \n",
    "\n",
    "result.update_one(query, update)\n",
    "\n",
    "for x in result.find():\n",
    "    print(x)"
   ]
  },
  {
   "cell_type": "code",
   "execution_count": 11,
   "id": "3a1a99c7",
   "metadata": {},
   "outputs": [
    {
     "name": "stdout",
     "output_type": "stream",
     "text": [
      "{'_id': ObjectId('63a337bb8d8f34c9538170cf'), 'name': 'Aditya', 'phone_no': '9133221239', 'place': 'kakinada', 'pincode': '15545'}\n",
      "{'_id': ObjectId('63a337cc8d8f34c9538170d0'), 'name': 'Rishi', 'phone_no': '9133221239', 'place': 'kakinada', 'pincode': '15545'}\n",
      "{'_id': ObjectId('63a337cc8d8f34c9538170d1'), 'name': 'Arun', 'phone_no': '9133771239', 'place': 'Rajahmundary', 'pincode': '12542'}\n",
      "{'_id': ObjectId('63a337cc8d8f34c9538170d2'), 'name': 'kundavai', 'phone_no': '9563221239', 'place': 'pithapuram', 'pincode': '56545'}\n",
      "{'_id': ObjectId('63a337cc8d8f34c9538170d3'), 'name': 'Nanadini', 'phone_no': '9132621239', 'place': 'Tripura', 'pincode': '10045'}\n",
      "{'_id': ObjectId('63a337cc8d8f34c9538170d4'), 'name': 'vrinda', 'phone_no': '9124621239', 'place': 'Tripura', 'pincode': '10045'}\n",
      "{'_id': ObjectId('63a337cc8d8f34c9538170d5'), 'name': 'Hari', 'phone_no': '9563221239', 'place': 'pithapuram', 'pincode': '56545'}\n",
      "{'_id': ObjectId('63a337cc8d8f34c9538170d6'), 'name': 'Nihar', 'phone_no': '5648921239', 'place': 'Tripura', 'pincode': '10745'}\n",
      "{'_id': ObjectId('63a337cc8d8f34c9538170d7'), 'name': 'Leela', 'phone_no': '9124648520', 'place': 'Tripura', 'pincode': '10745'}\n"
     ]
    }
   ],
   "source": [
    "query = { \"place\": \"Chennai\" }\n",
    "update = { \"$set\": { \"place\": \"Tripura\" } } # it will replace all ocuurences\n",
    "\n",
    "result.update_many(query, update)\n",
    "\n",
    "for x in result.find():\n",
    "    print(x)"
   ]
  },
  {
   "cell_type": "markdown",
   "id": "85d558b2",
   "metadata": {},
   "source": [
    "# DELETE\n",
    "\n",
    "        delete_one(): Will delete only first occurence of matched documents\n",
    "        delete_many(): Will delete all the occurences of matched documents \n",
    "        delete_many({}): Will delete all documents if condition is empty"
   ]
  },
  {
   "cell_type": "code",
   "execution_count": 12,
   "id": "cb53e438",
   "metadata": {},
   "outputs": [
    {
     "name": "stdout",
     "output_type": "stream",
     "text": [
      "{'_id': ObjectId('63a337bb8d8f34c9538170cf'), 'name': 'Aditya', 'phone_no': '9133221239', 'place': 'kakinada', 'pincode': '15545'}\n",
      "{'_id': ObjectId('63a337cc8d8f34c9538170d0'), 'name': 'Rishi', 'phone_no': '9133221239', 'place': 'kakinada', 'pincode': '15545'}\n",
      "{'_id': ObjectId('63a337cc8d8f34c9538170d1'), 'name': 'Arun', 'phone_no': '9133771239', 'place': 'Rajahmundary', 'pincode': '12542'}\n",
      "{'_id': ObjectId('63a337cc8d8f34c9538170d2'), 'name': 'kundavai', 'phone_no': '9563221239', 'place': 'pithapuram', 'pincode': '56545'}\n",
      "{'_id': ObjectId('63a337cc8d8f34c9538170d4'), 'name': 'vrinda', 'phone_no': '9124621239', 'place': 'Tripura', 'pincode': '10045'}\n",
      "{'_id': ObjectId('63a337cc8d8f34c9538170d5'), 'name': 'Hari', 'phone_no': '9563221239', 'place': 'pithapuram', 'pincode': '56545'}\n",
      "{'_id': ObjectId('63a337cc8d8f34c9538170d6'), 'name': 'Nihar', 'phone_no': '5648921239', 'place': 'Tripura', 'pincode': '10745'}\n",
      "{'_id': ObjectId('63a337cc8d8f34c9538170d7'), 'name': 'Leela', 'phone_no': '9124648520', 'place': 'Tripura', 'pincode': '10745'}\n"
     ]
    }
   ],
   "source": [
    "myquery = { \"place\": \"Tripura\" }\n",
    "\n",
    "result.delete_one(myquery)\n",
    "for x in result.find():\n",
    "    print(x)"
   ]
  },
  {
   "cell_type": "code",
   "execution_count": 13,
   "id": "bfaa8fe7",
   "metadata": {},
   "outputs": [
    {
     "name": "stdout",
     "output_type": "stream",
     "text": [
      "{'_id': ObjectId('63a337bb8d8f34c9538170cf'), 'name': 'Aditya', 'phone_no': '9133221239', 'place': 'kakinada', 'pincode': '15545'}\n",
      "{'_id': ObjectId('63a337cc8d8f34c9538170d0'), 'name': 'Rishi', 'phone_no': '9133221239', 'place': 'kakinada', 'pincode': '15545'}\n",
      "{'_id': ObjectId('63a337cc8d8f34c9538170d1'), 'name': 'Arun', 'phone_no': '9133771239', 'place': 'Rajahmundary', 'pincode': '12542'}\n",
      "{'_id': ObjectId('63a337cc8d8f34c9538170d2'), 'name': 'kundavai', 'phone_no': '9563221239', 'place': 'pithapuram', 'pincode': '56545'}\n",
      "{'_id': ObjectId('63a337cc8d8f34c9538170d5'), 'name': 'Hari', 'phone_no': '9563221239', 'place': 'pithapuram', 'pincode': '56545'}\n"
     ]
    }
   ],
   "source": [
    "myquery = { \"place\": \"Tripura\" }\n",
    "\n",
    "result.delete_many(myquery)\n",
    "for x in result.find():\n",
    "    print(x)"
   ]
  },
  {
   "cell_type": "code",
   "execution_count": 14,
   "id": "a30dc690",
   "metadata": {},
   "outputs": [],
   "source": [
    "result.delete_many({})\n",
    "for x in result.find():\n",
    "    print(x)"
   ]
  },
  {
   "cell_type": "code",
   "execution_count": null,
   "id": "45b67b0f",
   "metadata": {},
   "outputs": [],
   "source": []
  }
 ],
 "metadata": {
  "kernelspec": {
   "display_name": "Python 3 (ipykernel)",
   "language": "python",
   "name": "python3"
  },
  "language_info": {
   "codemirror_mode": {
    "name": "ipython",
    "version": 3
   },
   "file_extension": ".py",
   "mimetype": "text/x-python",
   "name": "python",
   "nbconvert_exporter": "python",
   "pygments_lexer": "ipython3",
   "version": "3.9.13"
  }
 },
 "nbformat": 4,
 "nbformat_minor": 5
}
